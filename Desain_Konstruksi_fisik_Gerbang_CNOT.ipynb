{
  "nbformat": 4,
  "nbformat_minor": 0,
  "metadata": {
    "colab": {
      "provenance": [],
      "authorship_tag": "ABX9TyOe8w42DnDu5VD3284evG2g",
      "include_colab_link": true
    },
    "kernelspec": {
      "name": "python3",
      "display_name": "Python 3"
    },
    "language_info": {
      "name": "python"
    }
  },
  "cells": [
    {
      "cell_type": "markdown",
      "metadata": {
        "id": "view-in-github",
        "colab_type": "text"
      },
      "source": [
        "<a href=\"https://colab.research.google.com/github/elangbijak4/Quantum_Security_Research/blob/main/Desain_Konstruksi_fisik_Gerbang_CNOT.ipynb\" target=\"_parent\"><img src=\"https://colab.research.google.com/assets/colab-badge.svg\" alt=\"Open In Colab\"/></a>"
      ]
    },
    {
      "cell_type": "markdown",
      "source": [
        "Desain ini didasarkan pada pembuatan sirkuit optik sederhana untuk sirkuit kuantum fotonik. Desain ini menggunakan Beam Splitter atau Phase Shifter."
      ],
      "metadata": {
        "id": "f_MHU7OOiRz0"
      }
    },
    {
      "cell_type": "code",
      "source": [
        "# Install QuTiP jika belum terinstal\n",
        "!pip install qutip"
      ],
      "metadata": {
        "colab": {
          "base_uri": "https://localhost:8080/"
        },
        "id": "NR4Ih1LYhxXh",
        "outputId": "da9a0f60-266b-43b3-ad19-c54f16e619f0"
      },
      "execution_count": 1,
      "outputs": [
        {
          "output_type": "stream",
          "name": "stdout",
          "text": [
            "Collecting qutip\n",
            "  Downloading qutip-5.0.3.post1-cp310-cp310-manylinux_2_17_x86_64.manylinux2014_x86_64.whl (28.0 MB)\n",
            "\u001b[2K     \u001b[90m━━━━━━━━━━━━━━━━━━━━━━━━━━━━━━━━━━━━━━━━\u001b[0m \u001b[32m28.0/28.0 MB\u001b[0m \u001b[31m35.4 MB/s\u001b[0m eta \u001b[36m0:00:00\u001b[0m\n",
            "\u001b[?25hRequirement already satisfied: numpy>=1.22 in /usr/local/lib/python3.10/dist-packages (from qutip) (1.25.2)\n",
            "Requirement already satisfied: scipy>=1.9 in /usr/local/lib/python3.10/dist-packages (from qutip) (1.11.4)\n",
            "Requirement already satisfied: packaging in /usr/local/lib/python3.10/dist-packages (from qutip) (24.1)\n",
            "Installing collected packages: qutip\n",
            "Successfully installed qutip-5.0.3.post1\n"
          ]
        }
      ]
    },
    {
      "cell_type": "code",
      "source": [
        "import numpy as np\n",
        "import matplotlib.pyplot as plt\n",
        "from qutip import *"
      ],
      "metadata": {
        "id": "a_FmPfm4h34t"
      },
      "execution_count": 2,
      "outputs": []
    },
    {
      "cell_type": "code",
      "execution_count": 8,
      "metadata": {
        "colab": {
          "base_uri": "https://localhost:8080/",
          "height": 433
        },
        "id": "Bs57iEx_hp8F",
        "outputId": "c5a2fe2f-9111-47a5-a799-6fb8ad88463a"
      },
      "outputs": [
        {
          "output_type": "stream",
          "name": "stdout",
          "text": [
            "Initial state:\n",
            " Quantum object: dims=[[2, 2], [1, 1]], shape=(4, 1), type='ket', dtype=Dense\n",
            "Qobj data =\n",
            "[[1.]\n",
            " [0.]\n",
            " [0.]\n",
            " [0.]]\n",
            "Final state after CNOT gate:\n",
            " Quantum object: dims=[[2, 2], [1, 1]], shape=(4, 1), type='ket', dtype=Dense\n",
            "Qobj data =\n",
            "[[1.]\n",
            " [0.]\n",
            " [0.]\n",
            " [0.]]\n"
          ]
        },
        {
          "output_type": "display_data",
          "data": {
            "text/plain": [
              "<Figure size 640x480 with 1 Axes>"
            ],
            "image/png": "[encoded data removed]"
          },
          "metadata": {}
        }
      ],
      "source": [
        "# Define the CNOT gate matrix\n",
        "CNOT_matrix = np.array([[1, 0, 0, 0],\n",
        "                 [0, 1, 0, 0],\n",
        "                 [0, 0, 0, 1],\n",
        "                 [0, 0, 1, 0]])\n",
        "\n",
        "# Define initial state (|00>)\n",
        "initial_state = tensor(basis(2, 0), basis(2, 0))\n",
        "\n",
        "# Create a QuTiP Qobj for the CNOT gate with correct dimensions\n",
        "CNOT_gate = Qobj(CNOT_matrix, dims=[[2, 2], [2, 2]]) # Reshape to be a valid operator\n",
        "\n",
        "# Apply CNOT gate to initial state\n",
        "final_state = CNOT_gate * initial_state\n",
        "\n",
        "# Print initial and final states\n",
        "print(\"Initial state:\\n\", initial_state)\n",
        "print(\"Final state after CNOT gate:\\n\", final_state)\n",
        "\n",
        "# Visualize the CNOT gate circuit\n",
        "fig, ax = plt.subplots()\n",
        "\n",
        "# Drawing the input lines\n",
        "ax.plot([0, 1], [1, 1], 'k-', lw=2)\n",
        "ax.plot([0, 1], [0, 0], 'k-', lw=2)\n",
        "\n",
        "# Drawing the CNOT gate\n",
        "ax.plot([1, 2], [1, 1], 'k-', lw=2)\n",
        "ax.plot([1, 1], [1, 0], 'k-', lw=2)\n",
        "ax.plot([1, 2], [0, 0], 'k-', lw=2)\n",
        "\n",
        "# Drawing the output lines\n",
        "ax.plot([2, 3], [1, 1], 'k-', lw=2)\n",
        "ax.plot([2, 3], [0, 0], 'k-', lw=2)\n",
        "\n",
        "# Labels\n",
        "ax.text(-0.1, 1, '|0>', ha='center', va='center', fontsize=14)\n",
        "ax.text(-0.1, 0, '|0>', ha='center', va='center', fontsize=14)\n",
        "ax.text(3.1, 1, '|0>', ha='center', va='center', fontsize=14)\n",
        "ax.text(3.1, 0, '|1>', ha='center', va='center', fontsize=14)\n",
        "\n",
        "# Setting the plot limits and titles\n",
        "ax.set_xlim(-0.5, 3.5)\n",
        "ax.set_ylim(-0.5, 1.5)\n",
        "ax.set_aspect('equal')\n",
        "ax.axis('off')\n",
        "plt.title('Photon Circuit for CNOT Gate')\n",
        "plt.show()"
      ]
    }
  ]
}