{
  "nbformat": 4,
  "nbformat_minor": 0,
  "metadata": {
    "colab": {
      "provenance": [],
      "authorship_tag": "ABX9TyN+iw+xtfweSqVtZpYBSX+A",
      "include_colab_link": true
    },
    "kernelspec": {
      "name": "python3",
      "display_name": "Python 3"
    },
    "language_info": {
      "name": "python"
    }
  },
  "cells": [
    {
      "cell_type": "markdown",
      "metadata": {
        "id": "view-in-github",
        "colab_type": "text"
      },
      "source": [
        "<a href=\"https://colab.research.google.com/github/elangbijak4/Quantum_Security_Research/blob/main/Desain%20Konstruksi_fisik_Simple_Sirkuit_Fotonik_untuk_Gerbang_Hadamard.ipynb\" target=\"_parent\"><img src=\"https://colab.research.google.com/assets/colab-badge.svg\" alt=\"Open In Colab\"/></a>"
      ]
    },
    {
      "cell_type": "markdown",
      "source": [
        "Catatan: Kode ini untuk mensimulasikan bahwa inshaa Allah kita mungkin membangun secara DIY komputer kuantum sederhana hanya dengan menggunakan Beam Splitter dan perangkat optik lain. Dengan memanfaatkan sebutir foton sebagai pembawa state kuantum. Tetapi yang masih menjadi pertanyaan adalah bagaimana membuat alat yang dapat menghasilkan sebutir foton?"
      ],
      "metadata": {
        "id": "4QKkNmPD0Drn"
      }
    },
    {
      "cell_type": "markdown",
      "source": [
        "Tantangan yang kedua untuk sirkuit kuantum fotonik yang lebih kompleks adalah memiliki alat yang dapat menghasilkan sepasang foton yang saling entangled."
      ],
      "metadata": {
        "id": "akbH1CMFz06R"
      }
    },
    {
      "cell_type": "code",
      "source": [
        "# Install QuTiP jika belum terinstal\n",
        "!pip install qutip"
      ],
      "metadata": {
        "colab": {
          "base_uri": "https://localhost:8080/"
        },
        "id": "DtynPpSczADt",
        "outputId": "86002ac9-584c-4d26-b571-904ad0cbca0d"
      },
      "execution_count": 2,
      "outputs": [
        {
          "output_type": "stream",
          "name": "stdout",
          "text": [
            "Collecting qutip\n",
            "  Downloading qutip-5.0.3.post1-cp310-cp310-manylinux_2_17_x86_64.manylinux2014_x86_64.whl (28.0 MB)\n",
            "\u001b[2K     \u001b[90m━━━━━━━━━━━━━━━━━━━━━━━━━━━━━━━━━━━━━━━━\u001b[0m \u001b[32m28.0/28.0 MB\u001b[0m \u001b[31m21.0 MB/s\u001b[0m eta \u001b[36m0:00:00\u001b[0m\n",
            "\u001b[?25hRequirement already satisfied: numpy>=1.22 in /usr/local/lib/python3.10/dist-packages (from qutip) (1.25.2)\n",
            "Requirement already satisfied: scipy>=1.9 in /usr/local/lib/python3.10/dist-packages (from qutip) (1.11.4)\n",
            "Requirement already satisfied: packaging in /usr/local/lib/python3.10/dist-packages (from qutip) (24.1)\n",
            "Installing collected packages: qutip\n",
            "Successfully installed qutip-5.0.3.post1\n"
          ]
        }
      ]
    },
    {
      "cell_type": "code",
      "execution_count": 4,
      "metadata": {
        "colab": {
          "base_uri": "https://localhost:8080/",
          "height": 563
        },
        "id": "wdFRiD2dy5c-",
        "outputId": "0462b103-6927-4250-822e-3437f89a445e"
      },
      "outputs": [
        {
          "output_type": "stream",
          "name": "stdout",
          "text": [
            "Initial state:\n",
            " Quantum object: dims=[[2], [1]], shape=(2, 1), type='ket', dtype=Dense\n",
            "Qobj data =\n",
            "[[1.]\n",
            " [0.]]\n",
            "Final state after beam splitter:\n",
            " Quantum object: dims=[[2], [1]], shape=(2, 1), type='ket', dtype=Dense\n",
            "Qobj data =\n",
            "[[0.70710678]\n",
            " [0.70710678]]\n"
          ]
        },
        {
          "output_type": "display_data",
          "data": {
            "text/plain": [
              "<Figure size 640x480 with 1 Axes>"
            ],
            "image/png": "[encoded data removed]"
          },
          "metadata": {}
        }
      ],
      "source": [
        "import numpy as np\n",
        "import matplotlib.pyplot as plt\n",
        "from qutip import *\n",
        "\n",
        "# Define the beam splitter (50:50) matrix which acts like a Hadamard gate\n",
        "BS = (1/np.sqrt(2)) * np.array([[1, 1], [1, -1]])\n",
        "\n",
        "# Create the initial state |0> = |1,0>\n",
        "initial_state = basis(2, 0)\n",
        "\n",
        "# Apply the beam splitter to the initial state\n",
        "final_state = Qobj(BS) * initial_state\n",
        "\n",
        "# Print the initial and final states\n",
        "print(\"Initial state:\\n\", initial_state)\n",
        "print(\"Final state after beam splitter:\\n\", final_state)\n",
        "\n",
        "# Visualize the beam splitter circuit\n",
        "fig, ax = plt.subplots()\n",
        "\n",
        "# Drawing the input lines\n",
        "ax.plot([0, 1], [1, 1], 'k-', lw=2)\n",
        "ax.plot([0, 1], [0, 0], 'k-', lw=2)\n",
        "\n",
        "# Drawing the beam splitter\n",
        "ax.plot([1, 1], [0, 1], 'k--', lw=2)\n",
        "ax.text(1, 0.5, 'BS', ha='center', va='center', fontsize=14, bbox=dict(facecolor='white', edgecolor='black'))\n",
        "\n",
        "# Drawing the output lines\n",
        "ax.plot([1, 2], [1, 0], 'k-', lw=2)\n",
        "ax.plot([1, 2], [0, 1], 'k-', lw=2)\n",
        "\n",
        "# Labels\n",
        "ax.text(-0.1, 1, '|1>', ha='center', va='center', fontsize=14)\n",
        "ax.text(-0.1, 0, '|0>', ha='center', va='center', fontsize=14)\n",
        "ax.text(2.1, 1, '|1\\'>', ha='center', va='center', fontsize=14)\n",
        "ax.text(2.1, 0, '|0\\'>', ha='center', va='center', fontsize=14)\n",
        "\n",
        "# Setting the plot limits and titles\n",
        "ax.set_xlim(-0.5, 2.5)\n",
        "ax.set_ylim(-0.5, 1.5)\n",
        "ax.set_aspect('equal')\n",
        "ax.axis('off')\n",
        "plt.title('Photon Beam Splitter as Hadamard Gate')\n",
        "plt.show()"
      ]
    }
  ]
}