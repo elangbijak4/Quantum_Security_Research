{
  "nbformat": 4,
  "nbformat_minor": 0,
  "metadata": {
    "colab": {
      "provenance": [],
      "authorship_tag": "ABX9TyMEf8lPRyJG/IgvijB9pl+b",
      "include_colab_link": true
    },
    "kernelspec": {
      "name": "python3",
      "display_name": "Python 3"
    },
    "language_info": {
      "name": "python"
    }
  },
  "cells": [
    {
      "cell_type": "markdown",
      "metadata": {
        "id": "view-in-github",
        "colab_type": "text"
      },
      "source": [
        "<a href=\"https://colab.research.google.com/github/elangbijak4/Quantum_Security_Research/blob/main/Desain_Konstruksi_fisik_Gerbang_Pauli_Y.ipynb\" target=\"_parent\"><img src=\"https://colab.research.google.com/assets/colab-badge.svg\" alt=\"Open In Colab\"/></a>"
      ]
    },
    {
      "cell_type": "markdown",
      "source": [
        "Desain ini didasarkan pada pembuatan sirkuit optik sederhana untuk sirkuit kuantum fotonik. Faraday Rotator salah satu alat optik yang dapat menggeser fase foton."
      ],
      "metadata": {
        "id": "f_MHU7OOiRz0"
      }
    },
    {
      "cell_type": "code",
      "source": [
        "# Install QuTiP jika belum terinstal\n",
        "!pip install qutip"
      ],
      "metadata": {
        "colab": {
          "base_uri": "https://localhost:8080/"
        },
        "id": "NR4Ih1LYhxXh",
        "outputId": "da9a0f60-266b-43b3-ad19-c54f16e619f0"
      },
      "execution_count": 1,
      "outputs": [
        {
          "output_type": "stream",
          "name": "stdout",
          "text": [
            "Collecting qutip\n",
            "  Downloading qutip-5.0.3.post1-cp310-cp310-manylinux_2_17_x86_64.manylinux2014_x86_64.whl (28.0 MB)\n",
            "\u001b[2K     \u001b[90m━━━━━━━━━━━━━━━━━━━━━━━━━━━━━━━━━━━━━━━━\u001b[0m \u001b[32m28.0/28.0 MB\u001b[0m \u001b[31m35.4 MB/s\u001b[0m eta \u001b[36m0:00:00\u001b[0m\n",
            "\u001b[?25hRequirement already satisfied: numpy>=1.22 in /usr/local/lib/python3.10/dist-packages (from qutip) (1.25.2)\n",
            "Requirement already satisfied: scipy>=1.9 in /usr/local/lib/python3.10/dist-packages (from qutip) (1.11.4)\n",
            "Requirement already satisfied: packaging in /usr/local/lib/python3.10/dist-packages (from qutip) (24.1)\n",
            "Installing collected packages: qutip\n",
            "Successfully installed qutip-5.0.3.post1\n"
          ]
        }
      ]
    },
    {
      "cell_type": "code",
      "source": [
        "import numpy as np\n",
        "import matplotlib.pyplot as plt\n",
        "from qutip import *"
      ],
      "metadata": {
        "id": "a_FmPfm4h34t"
      },
      "execution_count": 2,
      "outputs": []
    },
    {
      "cell_type": "code",
      "execution_count": 4,
      "metadata": {
        "colab": {
          "base_uri": "https://localhost:8080/",
          "height": 406
        },
        "id": "Bs57iEx_hp8F",
        "outputId": "ef533f94-fb42-4da7-a5a4-eb996d57585d"
      },
      "outputs": [
        {
          "output_type": "stream",
          "name": "stdout",
          "text": [
            "Initial state:\n",
            " Quantum object: dims=[[2], [1]], shape=(2, 1), type='ket', dtype=Dense\n",
            "Qobj data =\n",
            "[[1.]\n",
            " [0.]]\n",
            "Final state after Pauli-Y gate:\n",
            " Quantum object: dims=[[2], [1]], shape=(2, 1), type='ket', dtype=Dense\n",
            "Qobj data =\n",
            "[[0.+0.j]\n",
            " [0.+1.j]]\n"
          ]
        },
        {
          "output_type": "display_data",
          "data": {
            "text/plain": [
              "<Figure size 640x480 with 1 Axes>"
            ],
            "image/png": "[encoded data removed]"
          },
          "metadata": {}
        }
      ],
      "source": [
        "# Define the Pauli-Y gate matrix\n",
        "Y = np.array([[0, -1j], [1j, 0]])\n",
        "\n",
        "# Create the initial state |0> = |1,0>\n",
        "initial_state = basis(2, 0)\n",
        "\n",
        "# Apply the Pauli-Y gate to the initial state\n",
        "final_state = Qobj(Y) * initial_state\n",
        "\n",
        "# Print the initial and final states\n",
        "print(\"Initial state:\\n\", initial_state)\n",
        "print(\"Final state after Pauli-Y gate:\\n\", final_state)\n",
        "\n",
        "# Visualize the Pauli-Y gate circuit\n",
        "fig, ax = plt.subplots()\n",
        "\n",
        "# Drawing the input lines\n",
        "ax.plot([0, 1], [1, 1], 'k-', lw=2)\n",
        "ax.plot([0, 1], [0, 0], 'k-', lw=2)\n",
        "\n",
        "# Drawing the phase shifter and path change\n",
        "ax.plot([1, 1], [0, 1], 'k--', lw=2)\n",
        "ax.text(1, 0.5, 'Phase Shifter (π/2)', ha='center', va='center', fontsize=14, bbox=dict(facecolor='white', edgecolor='black'))\n",
        "\n",
        "# Drawing the output lines\n",
        "ax.plot([1, 2], [0, 1], 'k-', lw=2)\n",
        "ax.plot([1, 2], [1, 0], 'k-', lw=2)\n",
        "\n",
        "# Labels\n",
        "ax.text(-0.1, 1, '|1>', ha='center', va='center', fontsize=14)\n",
        "ax.text(-0.1, 0, '|0>', ha='center', va='center', fontsize=14)\n",
        "ax.text(2.1, 1, '|1\\'>', ha='center', va='center', fontsize=14)\n",
        "ax.text(2.1, 0, '|0\\'>', ha='center', va='center', fontsize=14)\n",
        "\n",
        "# Setting the plot limits and titles\n",
        "ax.set_xlim(-0.5, 2.5)\n",
        "ax.set_ylim(-0.5, 1.5)\n",
        "ax.set_aspect('equal')\n",
        "ax.axis('off')\n",
        "plt.title('Photon Phase Shifter as Pauli-Y Gate')\n",
        "plt.show()"
      ]
    }
  ]
}