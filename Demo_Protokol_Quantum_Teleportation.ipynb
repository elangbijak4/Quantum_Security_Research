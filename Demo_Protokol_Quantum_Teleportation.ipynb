{
  "nbformat": 4,
  "nbformat_minor": 0,
  "metadata": {
    "colab": {
      "provenance": [],
      "authorship_tag": "ABX9TyPjai8WCXM8DGjbMgXELGzK",
      "include_colab_link": true
    },
    "kernelspec": {
      "name": "python3",
      "display_name": "Python 3"
    },
    "language_info": {
      "name": "python"
    }
  },
  "cells": [
    {
      "cell_type": "markdown",
      "metadata": {
        "id": "view-in-github",
        "colab_type": "text"
      },
      "source": [
        "<a href=\"https://colab.research.google.com/github/elangbijak4/Quantum_Security_Research/blob/main/Demo_Protokol_Quantum_Teleportation.ipynb\" target=\"_parent\"><img src=\"https://colab.research.google.com/assets/colab-badge.svg\" alt=\"Open In Colab\"/></a>"
      ]
    },
    {
      "cell_type": "markdown",
      "source": [
        "Catatan: Protokol ini tidak menggunakan kanal komunikasi klasik seperti protokol quantum key distribution (QKD), murni seluruhnya kuantum, baik paket informasi (state kuantum) maupun kanal komunikasi (entanglement atau Implementasi pelanggaran Sirkuit lokal Bell's).  "
      ],
      "metadata": {
        "id": "KeALqvNXGma5"
      }
    },
    {
      "cell_type": "code",
      "source": [
        "!pip install cirq"
      ],
      "metadata": {
        "id": "ebW0kVhn8mCr"
      },
      "execution_count": null,
      "outputs": []
    },
    {
      "cell_type": "code",
      "source": [
        "import cirq\n",
        "from cirq.contrib.svg import SVGCircuit\n",
        "from cirq import Simulator\n",
        "from IPython.display import SVG, display\n",
        "#import matplotlib.pyplot as plt\n",
        "\n",
        "# Function to create a quantum teleportation circuit\n",
        "def create_teleportation_circuit():\n",
        "    # Create quantum register\n",
        "    qubits = cirq.LineQubit.range(3)  # 0: Tx, 1: Entangled, 2: Rx\n",
        "\n",
        "    circuit = cirq.Circuit()\n",
        "\n",
        "    # Step 1: Prepare entangled pair between Tx (Alice) and Rx (Bob)\n",
        "    circuit.append(cirq.H(qubits[1]))  # Hadamard gate for the entangled qubit (Hadamard at Rx)\n",
        "    circuit.append(cirq.CNOT(qubits[1], qubits[2]))  # CNOT gate between the entangled qubit and Rx\n",
        "\n",
        "    # Step 2: Alice sends the quantum state she wants to teleport to the entangled qubit\n",
        "    circuit.append(cirq.CNOT(qubits[0], qubits[1]))  # CNOT gate between the qubit to be teleported (Tx) and the entangled qubit\n",
        "    circuit.append(cirq.H(qubits[0]))  # Hadamard gate on the qubit to be teleported (Tx)\n",
        "\n",
        "    # Step 3: Alice measures the qubit to be teleported and the entangled qubit\n",
        "    circuit.append(cirq.measure(qubits[0], qubits[1]))  # Measurement at Tx and the entangled qubit\n",
        "\n",
        "    # Step 4: Bob applies X and Z gates based on the measurement results to reconstruct the state\n",
        "    circuit.append(cirq.CNOT(qubits[1], qubits[2]))  # CNOT gate at the entangled qubit and Rx\n",
        "    circuit.append(cirq.CZ(qubits[0], qubits[2]))    # CZ gate between the qubit to be teleported (Tx) and Rx\n",
        "\n",
        "    return circuit\n",
        "\n",
        "# Create the teleportation circuit\n",
        "teleportation_circuit = create_teleportation_circuit()\n",
        "\n",
        "# Display the circuit in SVG format\n",
        "svg_circuit = SVGCircuit(teleportation_circuit)  # Create SVGCircuit object\n",
        "display(svg_circuit)\n",
        "\n",
        "# Simulate the circuit\n",
        "simulator = cirq.Simulator()\n",
        "result = simulator.run(teleportation_circuit, repetitions=1000)\n",
        "\n",
        "# Display the measurement results in text\n",
        "print(\"Measurement results:\")\n",
        "print(result)"
      ],
      "metadata": {
        "colab": {
          "base_uri": "https://localhost:8080/",
          "height": 226
        },
        "id": "lFer-GsrB-dT",
        "outputId": "af10e21c-6b13-4cce-dc7d-6f2f750aab70"
      },
      "execution_count": 19,
      "outputs": [
        {
          "output_type": "display_data",
          "data": {
            "text/plain": [
              "<cirq.contrib.svg.svg.SVGCircuit at 0x7993f9241630>"
            ],
            "image/svg+xml": "<svg xmlns=\"http://www.w3.org/2000/svg\" width=\"520.0\" height=\"150.0\"><line x1=\"30.0\" x2=\"490.0\" y1=\"25.0\" y2=\"25.0\" stroke=\"#1967d2\" stroke-width=\"1\" /><line x1=\"30.0\" x2=\"490.0\" y1=\"75.0\" y2=\"75.0\" stroke=\"#1967d2\" stroke-width=\"1\" /><line x1=\"30.0\" x2=\"490.0\" y1=\"125.0\" y2=\"125.0\" stroke=\"#1967d2\" stroke-width=\"1\" /><line x1=\"150.0\" x2=\"150.0\" y1=\"75.0\" y2=\"125.0\" stroke=\"black\" stroke-width=\"3\" /><line x1=\"210.0\" x2=\"210.0\" y1=\"25.0\" y2=\"75.0\" stroke=\"black\" stroke-width=\"3\" /><line x1=\"330.0\" x2=\"330.0\" y1=\"25.0\" y2=\"75.0\" stroke=\"black\" stroke-width=\"3\" /><line x1=\"390.0\" x2=\"390.0\" y1=\"75.0\" y2=\"125.0\" stroke=\"black\" stroke-width=\"3\" /><line x1=\"450.0\" x2=\"450.0\" y1=\"25.0\" y2=\"125.0\" stroke=\"black\" stroke-width=\"3\" /><rect x=\"10.0\" y=\"5.0\" width=\"40\" height=\"40\" stroke=\"black\" fill=\"white\" stroke-width=\"0\" /><text x=\"30.0\" y=\"25.0\" dominant-baseline=\"middle\" text-anchor=\"middle\" font-size=\"14px\" font-family=\"sans\\-serif:style=normal:variant=normal:weight=normal:stretch=normal:size=10.0\">0: </text><rect x=\"10.0\" y=\"55.0\" width=\"40\" height=\"40\" stroke=\"black\" fill=\"white\" stroke-width=\"0\" /><text x=\"30.0\" y=\"75.0\" dominant-baseline=\"middle\" text-anchor=\"middle\" font-size=\"14px\" font-family=\"sans\\-serif:style=normal:variant=normal:weight=normal:stretch=normal:size=10.0\">1: </text><rect x=\"10.0\" y=\"105.0\" width=\"40\" height=\"40\" stroke=\"black\" fill=\"white\" stroke-width=\"0\" /><text x=\"30.0\" y=\"125.0\" dominant-baseline=\"middle\" text-anchor=\"middle\" font-size=\"14px\" font-family=\"sans\\-serif:style=normal:variant=normal:weight=normal:stretch=normal:size=10.0\">2: </text><rect x=\"70.0\" y=\"55.0\" width=\"40\" height=\"40\" stroke=\"black\" fill=\"white\" stroke-width=\"1\" /><text x=\"90.0\" y=\"75.0\" dominant-baseline=\"middle\" text-anchor=\"middle\" font-size=\"18px\" font-family=\"sans\\-serif:style=normal:variant=normal:weight=normal:stretch=normal:size=10.0\">H</text><circle cx=\"150.0\" cy=\"75.0\" r=\"10.0\" /><rect x=\"130.0\" y=\"105.0\" width=\"40\" height=\"40\" stroke=\"black\" fill=\"white\" stroke-width=\"1\" /><text x=\"150.0\" y=\"125.0\" dominant-baseline=\"middle\" text-anchor=\"middle\" font-size=\"18px\" font-family=\"sans\\-serif:style=normal:variant=normal:weight=normal:stretch=normal:size=10.0\">X</text><circle cx=\"210.0\" cy=\"25.0\" r=\"10.0\" /><rect x=\"190.0\" y=\"55.0\" width=\"40\" height=\"40\" stroke=\"black\" fill=\"white\" stroke-width=\"1\" /><text x=\"210.0\" y=\"75.0\" dominant-baseline=\"middle\" text-anchor=\"middle\" font-size=\"18px\" font-family=\"sans\\-serif:style=normal:variant=normal:weight=normal:stretch=normal:size=10.0\">X</text><rect x=\"250.0\" y=\"5.0\" width=\"40\" height=\"40\" stroke=\"black\" fill=\"white\" stroke-width=\"1\" /><text x=\"270.0\" y=\"25.0\" dominant-baseline=\"middle\" text-anchor=\"middle\" font-size=\"18px\" font-family=\"sans\\-serif:style=normal:variant=normal:weight=normal:stretch=normal:size=10.0\">H</text><rect x=\"310.0\" y=\"5.0\" width=\"40\" height=\"40\" stroke=\"black\" fill=\"white\" stroke-width=\"1\" /><text x=\"330.0\" y=\"25.0\" dominant-baseline=\"middle\" text-anchor=\"middle\" font-size=\"18px\" font-family=\"sans\\-serif:style=normal:variant=normal:weight=normal:stretch=normal:size=10.0\">M</text><rect x=\"310.0\" y=\"55.0\" width=\"40\" height=\"40\" stroke=\"black\" fill=\"white\" stroke-width=\"1\" /><text x=\"330.0\" y=\"75.0\" dominant-baseline=\"middle\" text-anchor=\"middle\" font-size=\"18px\" font-family=\"sans\\-serif:style=normal:variant=normal:weight=normal:stretch=normal:size=10.0\">M</text><circle cx=\"390.0\" cy=\"75.0\" r=\"10.0\" /><rect x=\"370.0\" y=\"105.0\" width=\"40\" height=\"40\" stroke=\"black\" fill=\"white\" stroke-width=\"1\" /><text x=\"390.0\" y=\"125.0\" dominant-baseline=\"middle\" text-anchor=\"middle\" font-size=\"18px\" font-family=\"sans\\-serif:style=normal:variant=normal:weight=normal:stretch=normal:size=10.0\">X</text><circle cx=\"450.0\" cy=\"25.0\" r=\"10.0\" /><circle cx=\"450.0\" cy=\"125.0\" r=\"10.0\" /></svg>"
          },
          "metadata": {}
        },
        {
          "output_type": "stream",
          "name": "stdout",
          "text": [
            "Measurement results:\n",
            "q(0),q(1)=1010101001111111101011101010100000111000110001001101000000101001101001101000010110100001101100111010011000011100011010101001100101000110110000000000111010011000110010001101110111110011011101100000011101011101011000111100011000010010110010101110100000001010011101011011101101111111011001000101110100000101011111101011011110110000000010110000001000101001100010011010111111010110011010110111000111001110101011011110000111011000011010000001001010010101101001010111101010100110011101101101011000010001101110110010010110000110110111100010000011101001110100011110100111111100001101001000011100000000001100110011111001111000100110111010101111011111001111010001101011101100011100010010001000001100000011011100010111111111100101011111011110010100111100000101001100011100101111011100001101100010000011010101011010110100001111111011111000110000011110011110010110010111100000001101111011011100100110010101001000011010110110101100010100010101100001010001011001110101111101110001000101101010110011100000011111100010, 1010101010101001000110101011000100001000101111011010000011100100001101101110000000100010110011001100100011110110100100011111010000110110010010001110101001100111011000000000110110100001110111001010000101111001011111000100000100100001111111110011101001001011000110100001100001101110100011011110101110010011110000110100011110111100000100111001010010111001101001111010011101001010111111100001101010110010001011111000001101001110101110110001101110010011101000101000111000111000101000111110010100110101001110011001011001001000111000011111101100100000011000101111000101101110011010111001100111110001001011100000100110110110101110001011111110000101101111111001001100101001110010111111011001111010000011000011011110010110000010100001011101010000101000111011111111010010000010000001110000101111010010110001101001011000001001100100010111100010111101011000100100101000010001001011001110000001101000111000010100001010110001001000011011001000000110100110101111100001001001100100100001000100100001110101110001011111\n"
          ]
        }
      ]
    }
  ]
}